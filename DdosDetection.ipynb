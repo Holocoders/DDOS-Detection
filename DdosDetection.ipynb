{
 "nbformat": 4,
 "nbformat_minor": 0,
 "metadata": {
  "colab": {
   "name": "DdosDetection.ipynb",
   "provenance": [],
   "collapsed_sections": [],
   "include_colab_link": true
  },
  "kernelspec": {
   "name": "python3",
   "display_name": "Python 3"
  }
 },
 "cells": [
  {
   "cell_type": "markdown",
   "metadata": {
    "id": "view-in-github",
    "colab_type": "text"
   },
   "source": [
    "<a href=\"https://colab.research.google.com/github/Yogesh7920/DDOS-Detection/blob/master/DdosDetection.ipynb\" target=\"_parent\"><img src=\"https://colab.research.google.com/assets/colab-badge.svg\" alt=\"Open In Colab\"/></a>"
   ]
  },
  {
   "cell_type": "code",
   "metadata": {
    "id": "bhmlvrCumSs7",
    "colab_type": "code",
    "colab": {}
   },
   "source": [
    "!pip install scapy\n",
    "\n",
    "import numpy as np\n",
    "import pandas as pd\n",
    "import seaborn as sns\n",
    "import os\n",
    "import requests\n",
    "import shutil\n",
    "import random\n",
    "import json\n",
    "import pprint\n",
    "from tqdm import tqdm\n",
    "import re\n",
    "import statistics \n",
    "from collections import defaultdict as dd\n",
    "import sklearn\n",
    "from sklearn.model_selection import train_test_split\n",
    "from sklearn.preprocessing import StandardScaler\n",
    "from sklearn.neighbors import KNeighborsClassifier\n",
    "from sklearn.metrics import classification_report\n",
    "from sklearn import preprocessing\n",
    "import pickle\n",
    "import time\n",
    "import multiprocessing as mp\n",
    "from joblib import Parallel, delayed\n",
    "from ast import literal_eval \n",
    "from distutils.dir_util import copy_tree\n",
    "from scapy.all import *\n",
    "import time\n",
    "from collections import Counter\n",
    "from scapy.all import *\n",
    "from scapy.layers.inet import IP\n",
    "from scapy.layers.l2 import Ether\n",
    "from google.colab import drive"
   ],
   "execution_count": null,
   "outputs": []
  },
  {
   "cell_type": "code",
   "metadata": {
    "id": "xAGx2uKJmeEd",
    "colab_type": "code",
    "colab": {}
   },
   "source": [
    "drive.mount(\"/content/drive\")"
   ],
   "execution_count": null,
   "outputs": []
  },
  {
   "cell_type": "code",
   "metadata": {
    "id": "SXYQ1tSqN68V",
    "colab_type": "code",
    "colab": {}
   },
   "source": [
    "!wget https://mettl-miscellaneous-public.s3.ap-south-1.amazonaws.com/client_public_data/369004/ddos/Ddos_Detection_Dataset.7z -P /content/drive/My\\ Drive/DDOS_Detection/Dataset\n",
    "!wget https://mettl-miscellaneous-public.s3.ap-south-1.amazonaws.com/client_public_data/369004/ddos/Ddos_Detection_Dataset_Part2.7z -P /content/drive/My\\ Drive/DDOS_Detection/Dataset"
   ],
   "execution_count": null,
   "outputs": []
  },
  {
   "cell_type": "code",
   "metadata": {
    "id": "zYLrXcP7O80J",
    "colab_type": "code",
    "colab": {}
   },
   "source": [
    "!7za e /content/drive/My\\ Drive/DDOS_Detection/Dataset/Ddos_Detection_Dataset.7z -o/content/drive/My\\ Drive/DDOS_Detection/Dataset\n",
    "!7za e /content/drive/My\\ Drive/DDOS_Detection/Dataset/Ddos_Detection_Dataset.7z -o/content/drive/My\\ Drive/DDOS_Detection/Dataset"
   ],
   "execution_count": null,
   "outputs": []
  },
  {
   "cell_type": "code",
   "metadata": {
    "id": "Y8S5M2VLQQov",
    "colab_type": "code",
    "colab": {}
   },
   "source": [],
   "execution_count": null,
   "outputs": []
  },
  {
   "cell_type": "code",
   "metadata": {
    "id": "bR6lFE63o9HS",
    "colab_type": "code",
    "colab": {}
   },
   "source": [
    "def get_packet_layers(packet):\n",
    "    counter = 0\n",
    "    while True:\n",
    "        layer = packet.getlayer(counter)\n",
    "        if layer is None:\n",
    "            break\n",
    "\n",
    "        yield layer.name\n",
    "        counter += 1\n",
    "\n",
    "\n",
    "def UDPCheck(pkt):\n",
    "  s = set()\n",
    "  for layer in get_packet_layers(pkt):\n",
    "    s.add(layer)\n",
    "  return 'UDP' in s\n",
    "\n",
    "\n",
    "def getData(pcap):\n",
    "    count = 0\n",
    "    udp = 0\n",
    "    times = []\n",
    "    src = []\n",
    "    dst = []\n",
    "    size = []\n",
    "    traffic = dd(lambda: 0)\n",
    "    for (pkt_data, pkt_metadata) in tqdm(RawPcapReader(pcap)):\n",
    "        count += 1\n",
    "        ether = Ether(pkt_data)\n",
    "        ip = IP(pkt_data)\n",
    "        if UDPCheck(ether):\n",
    "            udp += 1\n",
    "\n",
    "        times.append(ip.time)\n",
    "        src.append(ip.src)\n",
    "        dst.append(ip.dst)\n",
    "        size.append(ip.len)\n",
    "        traffic[(ip.src, ip.dst)] += ip.len\n",
    "\n",
    "    udp = (udp / count) * 100\n",
    "    traffic = dict(traffic)\n",
    "\n",
    "    result = {\n",
    "        'times': times,\n",
    "        'src': src,\n",
    "        'dst': dst,\n",
    "        'size': size,\n",
    "        'traffic': traffic,\n",
    "        'udp': udp,\n",
    "        'count': count\n",
    "    }\n",
    "    return result"
   ],
   "execution_count": null,
   "outputs": []
  },
  {
   "cell_type": "code",
   "metadata": {
    "id": "FjlYA7bjNKAj",
    "colab_type": "code",
    "colab": {}
   },
   "source": [
    "def fix_digit(x):\n",
    "    if len(x) == 1:\n",
    "        return '0'+x\n",
    "    else:\n",
    "        return x\n",
    "\n",
    "\n",
    "def get_feat_dir(dataset):\n",
    "    feat = os.path.join(dataset, 'attack_feat')\n",
    "    if not os.path.exists(feat):\n",
    "        os.mkdir(feat)\n",
    "\n",
    "    return feat\n",
    "\n",
    "\n",
    "def get_dataset(dataset):\n",
    "    attack = os.path.join(dataset, 'Ddos_Dataset_Part2')\n",
    "    dirs = os.listdir(attack)\n",
    "    dirs = list(map(lambda x: int(x), dirs))\n",
    "    dirs.sort()\n",
    "    dirs = filter(lambda x: x < 85, dirs)\n",
    "    dirs = list(map(lambda x: str(x), dirs))\n",
    "    dirs = list(map(fix_digit, dirs))\n",
    "\n",
    "    completed = os.listdir(get_feat_dir(dataset))\n",
    "    completed = set(list(map(lambda x: x.split('.')[0], completed)))\n",
    "    dirs = filter(lambda x: x not in completed, dirs)\n",
    "\n",
    "    dirs = list(map(lambda x: os.path.join(attack, x), dirs))\n",
    "    return dirs"
   ],
   "execution_count": null,
   "outputs": []
  },
  {
   "cell_type": "code",
   "metadata": {
    "id": "f1sdY5ZuQj8n",
    "colab_type": "code",
    "colab": {}
   },
   "source": [
    "def get_feats(dataset_path,out_path, file, i):\n",
    "    if os.isdir(out_path) == False:\n",
    "      os.mkdir(out_path)\n",
    "    files = os.listdir(dataset_path)\n",
    "    start_time = time.time()\n",
    "    print(\"current file %s --- %d of %d\"%(file, i + 1, len(files)))\n",
    "    write_file = file + \".p\"\n",
    "    if os.path.isfile(os.path.join(out_path, write_file)) == True:\n",
    "        return \"file completed\"\n",
    "    file_path = os.path.join(dataset_path, file)\n",
    "    result = getData(os.path.join(dataset_path, file))\n",
    "    with open(os.path.join(out_path, write_file), \"wb\") as f:\n",
    "        pickle.dump(result, f, protocol=pickle.HIGHEST_PROTOCOL)\n",
    "    print(\"completed file %s ---- in %f minutes\"%(file, (time.time() - start_time)/60))\n",
    "    return result"
   ],
   "execution_count": 10,
   "outputs": []
  },
  {
   "cell_type": "code",
   "metadata": {
    "id": "Fs3rCN2kRDtx",
    "colab_type": "code",
    "colab": {}
   },
   "source": [
    "num_cores = multiprocessing.cpu_count()\n",
    "\n",
    "\n",
    "def train(dataset_path, out_path):\n",
    "  files = os.listdir(dataset_path)\n",
    "  processed_list = Parallel(n_jobs=num_cores, backend=\"multiprocessing\")(delayed(get_feats)(dataset_path, out_path, file, i) for i, file in enumerate(files))\n",
    "\n",
    "# dataset-1\n",
    "# benign1 \n",
    "dataset_path = \"/content/drive/My Drive/DDOS_Detection/Dataset/Ddos_Detection_Dataset/Ddos_benign/benign1\"\n",
    "out_path = \"/content/drive/My Drive/DDOS_Detection/Dataset/Ddos_Detection_Dataset/benign_feat/benign1\"\n",
    "train(dataset_path, out_path)\n",
    "# benign2\n",
    "dataset_path = \"/content/drive/My Drive/DDOS_Detection/Dataset/Ddos_Detection_Dataset/Ddos_benign/benign2\"\n",
    "out_path = \"/content/drive/My Drive/DDOS_Detection/Dataset/Ddos_Detection_Dataset/benign_feat/benign2\"\n",
    "train(dataset_path, out_path)\n",
    "# benign3\n",
    "dataset_path = \"/content/drive/My Drive/DDOS_Detection/Dataset/Ddos_Detection_Dataset/Ddos_benign/benign3\"\n",
    "out_path = \"/content/drive/My Drive/DDOS_Detection/Dataset/Ddos_Detection_Dataset/benign_feat/benign3\"\n",
    "train(dataset_path, out_path)\n",
    "# p2pbox1\n",
    "dataset_path = \"/content/drive/My Drive/DDOS_Detection/Dataset/Ddos_Detection_Dataset/Ddos_benign/p2pbox1\"\n",
    "out_path = \"/content/drive/My Drive/DDOS_Detection/Dataset/Ddos_Detection_Dataset/benign_feat/p2pbox1\"\n",
    "train(dataset_path, out_path)\n",
    "\n",
    "#attack\n",
    "dataset_path = \"/content/drive/My Drive/DDOS_Detection/Dataset/Ddos_Detection_Dataset/Ddos_Attack_data\"\n",
    "out_path = \"/content/drive/My Drive/DDOS_Detection/Dataset/Ddos_Detection_Dataset/attack_feat\"\n",
    "train(dataset_path, out_path)\n",
    "\n",
    "\n",
    "\n",
    "#dataset-2\n",
    "#benign\n",
    "dataset_path = \"/content/drive/My Drive/DDOS_Detection/Dataset/Ddos_Detection_Dataset_Part2/Ddos_benign\"\n",
    "out_path = \"/content/drive/My Drive/DDOS_Detection/Dataset/Ddos_Detection_Dataset_Part2/benign_feat\"\n",
    "train(dataset_path, out_path)\n",
    "\n",
    "#attack\n",
    "dataset_path = \"/content/drive/My Drive/DDOS_Detection/Dataset/Ddos_Detection_Dataset_Part2/Ddos_Dataset_Part2\"\n",
    "out_path = \"/content/drive/My Drive/DDOS_Detection/Dataset/Ddos_Detection_Dataset_Part2/attack_feat\"\n",
    "train(dataset_path, out_path)"
   ],
   "execution_count": null,
   "outputs": []
  },
  {
   "cell_type": "code",
   "metadata": {
    "id": "91qxaLWbkyc7",
    "colab_type": "code",
    "colab": {}
   },
   "source": [
    "dataset_1 = \"/content/drive/My Drive/DDOS_Detection/Dataset/Ddos_Detection_Dataset\"\n",
    "dataset_2 = \"/content/drive/My Drive/DDOS_Detection/Dataset/Ddos_Detection_Dataset_Part2\"\n",
    "\n",
    "attack_1 = os.path.join(dataset_1, \"attack_feat\")\n",
    "attack_2 = os.path.join(dataset_2, \"attack_feat\")\n",
    "benign_1 = os.path.join(dataset_1, \"benign_feat\")\n",
    "benign_2 = os.path.join(dataset_2, \"benign_feat\")"
   ],
   "execution_count": null,
   "outputs": []
  },
  {
   "cell_type": "code",
   "metadata": {
    "id": "NDg_Ux9Xnnx6",
    "colab_type": "code",
    "colab": {}
   },
   "source": [
    "for folder in os.listdir(benign_1):\n",
    "  for file in os.listdir(os.path.join(benign_1, folder)):\n",
    "    path = os.path.join(benign_1, folder)\n",
    "    shutil.move(os.path.join(path, file), benign_1)"
   ],
   "execution_count": null,
   "outputs": []
  },
  {
   "cell_type": "code",
   "metadata": {
    "id": "Fn84Hwrzo_rm",
    "colab_type": "code",
    "colab": {}
   },
   "source": [
    "attacks = os.listdir(attack_1) + os.listdir(attack_2)\n",
    "benigns = os.listdir(benign_1) + os.listdir(benign_2)\n",
    "\n",
    "len(attacks), len(benigns)"
   ],
   "execution_count": null,
   "outputs": []
  },
  {
   "cell_type": "code",
   "metadata": {
    "id": "ZbhXDe9yqtsx",
    "colab_type": "code",
    "colab": {}
   },
   "source": [
    "i = 1\n",
    "for x in os.listdir(attack_1):\n",
    "  new_name = str(i) + \".p\"\n",
    "  i += 1\n",
    "  os.rename(os.path.join(attack_1, x), os.path.join(attack_1, new_name))\n",
    "\n",
    "for x in os.listdir(attack_2):\n",
    "  new_name = str(i) + \".p\"\n",
    "  i += 1\n",
    "  os.rename(os.path.join(attack_2, x), os.path.join(attack_2, new_name))\n",
    "\n",
    "i = 1\n",
    "\n",
    "for x in os.listdir(benign_1):\n",
    "  new_name = str(i) + \".p\"\n",
    "  i += 1\n",
    "  os.rename(os.path.join(benign_1, x), os.path.join(benign_1, new_name))\n",
    "\n",
    "for x in os.listdir(benign_2):\n",
    "  new_name = str(i) + \".p\"\n",
    "  i += 1\n",
    "  os.rename(os.path.join(benign_2, x), os.path.join(benign_2, new_name))"
   ],
   "execution_count": null,
   "outputs": []
  },
  {
   "cell_type": "code",
   "metadata": {
    "id": "xqfyuU4SpWtW",
    "colab_type": "code",
    "colab": {}
   },
   "source": [
    "train_path = \"/content/drive/My Drive/DDOS_Detection/Train_Data\"\n",
    "attack_path = os.path.join(train_path, \"attack\")\n",
    "benign_path = os.path.join(train_path, \"benign\")\n",
    "\n",
    "if os.path.isdir(attack_path) == False:\n",
    "  os.mkdir(attack_path)\n",
    "if os.path.isdir(benign_path) == False:\n",
    "  os.mkdir(benign_path)\n",
    "\n",
    "def move_files(src, dest):\n",
    "  for file in os.listdir(src):\n",
    "    try:\n",
    "      shutil.copy(os.path.join(src, file), dest)\n",
    "    except:\n",
    "      #dont move ipynb checkpoints\n",
    "      pass"
   ],
   "execution_count": null,
   "outputs": []
  },
  {
   "cell_type": "code",
   "metadata": {
    "id": "f-zr-4CHw-UR",
    "colab_type": "code",
    "colab": {}
   },
   "source": [
    "move_files(attack_1, attack_path)\n",
    "move_files(attack_2, attack_path)\n",
    "move_files(benign_1, benign_path)\n",
    "move_files(benign_2, benign_path)"
   ],
   "execution_count": null,
   "outputs": []
  },
  {
   "cell_type": "code",
   "metadata": {
    "id": "L_pgmfIY1rHR",
    "colab_type": "code",
    "colab": {}
   },
   "source": [
    "head = [\n",
    "  'freq_mean', 'freq_std', 'time_taken', 'bandwidth', 'traffic_mean', 'traffic_std','traffic_src',\n",
    "  'traffic_dst', 'size_mean', 'size_std', 'size_max', 'size_min', 'size_total',\n",
    "  'ip_src_count', 'ip_dst_count', 'ip_dst_mean', 'ip_dst_std', 'udp', 'attack'\n",
    "]\n",
    "\n",
    "\n",
    "def cumsub(times):\n",
    "    result = []\n",
    "    for t in range(len(times)-1):\n",
    "        result.append(times[t+1]-times[t])\n",
    "\n",
    "    return np.array(result)\n",
    "\n",
    "def frequency(times):\n",
    "    cb = cumsub(times)\n",
    "    d = {\n",
    "        'mean': np.mean(cb),\n",
    "        'std': np.std(cb)\n",
    "    }\n",
    "    return d\n",
    "\n",
    "def total_time(times):\n",
    "    low, high = min(times), max(times)\n",
    "    dt = high-low\n",
    "    return dt\n",
    "\n",
    "def traffic(times, traffic):\n",
    "    dt = total_time(times)\n",
    "    vals = np.array(list(traffic.values()))\n",
    "    max_val = np.max(vals)\n",
    "    src, dst = max(traffic, key = traffic.get)\n",
    "    d = {\n",
    "      'src': src,\n",
    "      'dst':dst,\n",
    "      'bandwidth': max_val/dt,\n",
    "      'mean': np.mean(vals),\n",
    "      'std': np.std(vals)\n",
    "    }\n",
    "    return d\n",
    "\n",
    "def packetsize(size):\n",
    "    size = np.array(size)\n",
    "    d = {\n",
    "      'mean': np.mean(size),\n",
    "      'std': np.std(size),\n",
    "      'max': np.max(size),\n",
    "      'min': np.min(size),\n",
    "      'total': np.sum(size)\n",
    "    }\n",
    "    return d\n",
    "\n",
    "def unique_IP(src, dst):\n",
    "    counter = Counter(dst)\n",
    "    dst_counts = np.array(list(dict(counter).values()))\n",
    "    d = {\n",
    "      'src_count': len(set(src)),\n",
    "      'dst_count': len(set(dst)),\n",
    "      'mean_dst': np.mean(dst_counts),\n",
    "      'std_dst': np.std(dst_counts)\n",
    "    }\n",
    "    return d\n",
    "\n",
    "def features(d):\n",
    "    freq = frequency(d['times'])\n",
    "    time_taken = total_time(d['times'])\n",
    "    traf = traffic(d['times'], d['traffic'])\n",
    "    size = packetsize(d['size'])\n",
    "    ip = unique_IP(d['src'], d['dst'])\n",
    "    udp = d['udp']\n",
    "\n",
    "    result = [\n",
    "        freq['mean'], freq['std'], time_taken, traf['bandwidth'], traf['mean'], traf['std'],\n",
    "        traf['src'],traf['dst'],size['mean'], size['std'], size['max'], size['min'], size['total'],\n",
    "        ip['src_count'], ip['dst_count'], ip['mean_dst'], ip['std_dst'], udp\n",
    "    ]\n",
    "\n",
    "    return result"
   ],
   "execution_count": null,
   "outputs": []
  },
  {
   "cell_type": "code",
   "metadata": {
    "id": "UWIs-Ze5T4-B",
    "colab_type": "code",
    "colab": {}
   },
   "source": [
    "dataset_feat = []\n",
    "for file in tqdm(os.listdir(attack_path)):\n",
    "    if file != '.ipynb_checkpoints':\n",
    "        path = os.path.join(attack_path, file)\n",
    "        attack = 1\n",
    "        try:\n",
    "            with open(path, \"rb\") as f:\n",
    "                d = pickle.load(f)\n",
    "        except:\n",
    "            print(file)\n",
    "            continue\n",
    "        feat = features(d)\n",
    "        feat.append(attack)\n",
    "        dataset_feat.append(feat)\n",
    "\n",
    "for file in tqdm(os.listdir(benign_path)):\n",
    "    if file != '.ipynb_checkpoints':\n",
    "        path = os.path.join(benign_path, file)\n",
    "        attack = 0\n",
    "        try:\n",
    "            with open(path, \"rb\") as f:\n",
    "                d = pickle.load(f)\n",
    "        except:\n",
    "            print(file)\n",
    "            continue\n",
    "        feat = features(d)\n",
    "        feat.append(attack)\n",
    "        dataset_feat.append(feat)"
   ],
   "execution_count": null,
   "outputs": []
  },
  {
   "cell_type": "code",
   "metadata": {
    "id": "NfiFlUdjUIN5",
    "colab_type": "code",
    "colab": {}
   },
   "source": [
    "dataset = pd.DataFrame(dataset_feat, columns=head)\n",
    "X = dataset.drop(['attack', 'traffic_src', 'traffic_dst'], axis=1)\n",
    "y = dataset['attack']\n",
    "X_train, X_test, y_train, y_test = train_test_split(X, y, test_size=0.25, random_state=101)\n",
    "\n",
    "\n",
    "scaler = StandardScaler()\n",
    "X_train = scaler.fit_transform(X_train)\n",
    "X_test = scaler.transform(X_test)\n",
    "\n",
    "\n",
    "knn = KNeighborsClassifier()\n",
    "knn.fit(X_train, y_train) \n",
    "preds = knn.predict(X_test)\n",
    "print(classification_report(y_test, preds))"
   ],
   "execution_count": null,
   "outputs": []
  },
  {
   "cell_type": "code",
   "metadata": {
    "id": "cNgn7cb4UZNB",
    "colab_type": "code",
    "colab": {}
   },
   "source": [
    "store_data = \"/content/drive/My Drive/DDOS_Detection\"\n",
    "\n",
    "with open(os.path.join(store_path, \"data.p\"), \"wb\") as f:\n",
    "    res = (knn,scaler, df)\n",
    "    pickle.dump(res, f, protocol=pickle.HIGHEST_PROTOCOL)"
   ],
   "execution_count": null,
   "outputs": []
  },
  {
   "cell_type": "code",
   "metadata": {
    "id": "OaSvK2o2UjT9",
    "colab_type": "code",
    "colab": {}
   },
   "source": [
    "dataset.to_csv(\"preprocessed_data.csv\", index=False)"
   ],
   "execution_count": null,
   "outputs": []
  }
 ]
}